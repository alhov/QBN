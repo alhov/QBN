{
 "cells": [
  {
   "cell_type": "markdown",
   "id": "c5ad2e13",
   "metadata": {},
   "source": [
    "Tutoriel sur réseaux bayesiens quantiques basé sur le dilemme du prisonnier"
   ]
  },
  {
   "cell_type": "markdown",
   "id": "a53df406",
   "metadata": {},
   "source": [
    "Etape 1: import des modules et classes nécesaires"
   ]
  },
  {
   "cell_type": "code",
   "execution_count": 1,
   "id": "ba356d8a",
   "metadata": {},
   "outputs": [],
   "source": [
    "import os\n",
    "import sys\n",
    "import math\n",
    "sys.path.insert(0, os.path.abspath('QuantumBayesian'))"
   ]
  },
  {
   "cell_type": "code",
   "execution_count": 2,
   "id": "4a339fab",
   "metadata": {
    "scrolled": true
   },
   "outputs": [],
   "source": [
    "from qbn import QBN\n",
    "from inference_exact import Inference_Exact\n",
    "from inference_jt import Inference_JT"
   ]
  },
  {
   "cell_type": "markdown",
   "id": "92e25e5c",
   "metadata": {},
   "source": [
    "Etape 2: modélisation du problème avec réseaux bayesiens quantiques"
   ]
  },
  {
   "cell_type": "code",
   "execution_count": 3,
   "id": "8d2e15f8",
   "metadata": {},
   "outputs": [],
   "source": [
    "dilemme = QBN()\n",
    "dilemme.add(\"A\", 2)\n",
    "dilemme.add(\"B\", 2)\n",
    "dilemme.addArc(\"A\", \"B\")"
   ]
  },
  {
   "cell_type": "code",
   "execution_count": 4,
   "id": "5b92ca89",
   "metadata": {},
   "outputs": [
    {
     "data": {
      "text/html": [
       "<svg xmlns=\"http://www.w3.org/2000/svg\" xmlns:xlink=\"http://www.w3.org/1999/xlink\" width=\"62pt\" height=\"116pt\" viewBox=\"0.00 0.00 62.00 116.00\">\n",
       "<g id=\"graph0\" class=\"graph\" transform=\"scale(1 1) rotate(0) translate(4 112)\">\n",
       "<title>G</title>\n",
       "<!-- A -->\n",
       "<g id=\"node1\" class=\"node\">\n",
       "<title>A</title>\n",
       "<g id=\"a_node1\"><a xlink:title=\"(0) A\">\n",
       "<ellipse fill=\"#404040\" stroke=\"black\" cx=\"27\" cy=\"-90\" rx=\"27\" ry=\"18\"/>\n",
       "<text text-anchor=\"middle\" x=\"27\" y=\"-86.3\" font-family=\"Times New Roman,serif\" font-size=\"14.00\" fill=\"white\">A</text>\n",
       "</a>\n",
       "</g>\n",
       "</g>\n",
       "<!-- B -->\n",
       "<g id=\"node2\" class=\"node\">\n",
       "<title>B</title>\n",
       "<g id=\"a_node2\"><a xlink:title=\"(1) B\">\n",
       "<ellipse fill=\"#404040\" stroke=\"black\" cx=\"27\" cy=\"-18\" rx=\"27\" ry=\"18\"/>\n",
       "<text text-anchor=\"middle\" x=\"27\" y=\"-14.3\" font-family=\"Times New Roman,serif\" font-size=\"14.00\" fill=\"white\">B</text>\n",
       "</a>\n",
       "</g>\n",
       "</g>\n",
       "<!-- A&#45;&gt;B -->\n",
       "<g id=\"edge1\" class=\"edge\">\n",
       "<title>A-&gt;B</title>\n",
       "<g id=\"a_edge1\"><a xlink:title=\"0 → 1\">\n",
       "<path fill=\"none\" stroke=\"#4a4a4a\" d=\"M27,-71.7C27,-63.98 27,-54.71 27,-46.11\"/>\n",
       "<polygon fill=\"#4a4a4a\" stroke=\"#4a4a4a\" points=\"30.5,-46.1 27,-36.1 23.5,-46.1 30.5,-46.1\"/>\n",
       "</a>\n",
       "</g>\n",
       "</g>\n",
       "</g>\n",
       "</svg>"
      ],
      "text/plain": [
       "(pyAgrum.BayesNet<double>@0x1919f26ae60) BN{nodes: 2, arcs: 1, domainSize: 4, dim: 3, mem: 48o}"
      ]
     },
     "execution_count": 4,
     "metadata": {},
     "output_type": "execute_result"
    }
   ],
   "source": [
    "dilemme.showQBN()"
   ]
  },
  {
   "cell_type": "code",
   "execution_count": 5,
   "id": "019078f8",
   "metadata": {},
   "outputs": [],
   "source": [
    "dilemme.bn_mod.cpt(\"A\")[{}] = [math.sqrt(0.5), math.sqrt(0.5)]\n",
    "dilemme.bn_arg.cpt(\"A\")[{}] = [0, 2.8151]\n",
    "dilemme.bn_mod.cpt(\"B\")[{'A': 0}] = [math.sqrt(0.97), math.sqrt(0.03)]\n",
    "dilemme.bn_mod.cpt(\"B\")[{'A': 1}] = [math.sqrt(0.84), math.sqrt(0.16)]"
   ]
  },
  {
   "cell_type": "markdown",
   "id": "86323285",
   "metadata": {},
   "source": [
    "Variables A et B correspondent aux deux prisonniers, 0 correspond à dénoncer, 1 correspond à coopérer. Alors P(A) = 0 correspond à la probabilité de dénoncer pour première prisonnier etc."
   ]
  },
  {
   "cell_type": "code",
   "execution_count": 6,
   "id": "94cd54b8",
   "metadata": {},
   "outputs": [
    {
     "data": {
      "text/html": [
       "<table style=\"border:1px solid black;\">\n",
       "<tr style='border:1px solid black;color:black;background-color:#808080'>\n",
       "      <th colspan='2'><center>A</center></th></tr>\n",
       "<tr><th style='border:1px solid black;border-bottom-style: double;color:black;background-color:#BBBBBB'>\n",
       "      <center>0</center></th><th style='border:1px solid black;border-bottom-style: double;color:black;background-color:#BBBBBB'>\n",
       "      <center>1</center></th></tr>\n",
       "<tr><td style='text-align:right;'>0.7071</td><td style='text-align:right;'>0.7071</td></tr>\n",
       "</table>"
      ],
      "text/plain": [
       "(pyAgrum.Potential<double>@0x1919f26cf70) \n",
       "  A                |\n",
       "0        |1        |\n",
       "---------|---------|\n",
       " 0.7071  | 0.7071  |"
      ]
     },
     "execution_count": 6,
     "metadata": {},
     "output_type": "execute_result"
    }
   ],
   "source": [
    "dilemme.module(\"A\")"
   ]
  },
  {
   "cell_type": "code",
   "execution_count": 7,
   "id": "b9c77990",
   "metadata": {},
   "outputs": [
    {
     "data": {
      "text/html": [
       "<table style=\"border:1px solid black;\">\n",
       "<tr style='border:1px solid black;color:black;background-color:#808080'>\n",
       "      <th colspan='2'><center>A</center></th></tr>\n",
       "<tr><th style='border:1px solid black;border-bottom-style: double;color:black;background-color:#BBBBBB'>\n",
       "      <center>0</center></th><th style='border:1px solid black;border-bottom-style: double;color:black;background-color:#BBBBBB'>\n",
       "      <center>1</center></th></tr>\n",
       "<tr><td style='text-align:right;'>0.0000</td><td style='text-align:right;'>2.8151</td></tr>\n",
       "</table>"
      ],
      "text/plain": [
       "(pyAgrum.Potential<double>@0x191a27ae120) \n",
       "  A                |\n",
       "0        |1        |\n",
       "---------|---------|\n",
       " 0.0000  | 2.8151  |"
      ]
     },
     "execution_count": 7,
     "metadata": {},
     "output_type": "execute_result"
    }
   ],
   "source": [
    "dilemme.argument(\"A\")"
   ]
  },
  {
   "cell_type": "code",
   "execution_count": 8,
   "id": "4a40fca9",
   "metadata": {},
   "outputs": [
    {
     "data": {
      "text/html": [
       "<table style=\"border:1px solid black;\">\n",
       "<tr><th colspan='1'></th>\n",
       "      <th colspan='2' style='border:1px solid black;color:black;background-color:#808080;'><center>B</center>\n",
       "      </th></tr>\n",
       "<tr><th style='border:1px solid black;color:black;background-color:#808080'><center>A</center></th><th style='border:1px solid black;border-bottom-style: double;color:black;background-color:#BBBBBB'>\n",
       "      <center>0</center></th><th style='border:1px solid black;border-bottom-style: double;color:black;background-color:#BBBBBB'>\n",
       "      <center>1</center></th></tr>\n",
       "<tr><th style='border:1px solid black;color:black;background-color:#BBBBBB'><center>0</center></th><td style='text-align:right;'>0.9849</td><td style='text-align:right;'>0.1732</td></tr>\n",
       "<tr><th style='border:1px solid black;color:black;background-color:#BBBBBB'><center>1</center></th><td style='text-align:right;'>0.9165</td><td style='text-align:right;'>0.4000</td></tr>\n",
       "</table>"
      ],
      "text/plain": [
       "(pyAgrum.Potential<double>@0x191a27ae600) \n",
       "      ||  B                |\n",
       "A     ||0        |1        |\n",
       "------||---------|---------|\n",
       "0     || 0.9849  | 0.1732  |\n",
       "1     || 0.9165  | 0.4000  |"
      ]
     },
     "execution_count": 8,
     "metadata": {},
     "output_type": "execute_result"
    }
   ],
   "source": [
    "dilemme.module(\"B\")"
   ]
  },
  {
   "cell_type": "markdown",
   "id": "f6022e3e",
   "metadata": {},
   "source": [
    "Etape 3: Première approche -- inference exacte"
   ]
  },
  {
   "cell_type": "code",
   "execution_count": 9,
   "id": "6c615ffb",
   "metadata": {},
   "outputs": [],
   "source": [
    "infer_exacte = Inference_Exact(dilemme)"
   ]
  },
  {
   "cell_type": "code",
   "execution_count": 10,
   "id": "699bffdb",
   "metadata": {},
   "outputs": [],
   "source": [
    "infer_exacte.addTarget(\"B\")"
   ]
  },
  {
   "cell_type": "code",
   "execution_count": 11,
   "id": "f27617ef",
   "metadata": {},
   "outputs": [
    {
     "data": {
      "text/plain": [
       "['B']"
      ]
     },
     "execution_count": 11,
     "metadata": {},
     "output_type": "execute_result"
    }
   ],
   "source": [
    "infer_exacte.currentTargets()"
   ]
  },
  {
   "cell_type": "code",
   "execution_count": 12,
   "id": "2423d049",
   "metadata": {},
   "outputs": [],
   "source": [
    "infer_exacte.makeInference()"
   ]
  },
  {
   "cell_type": "code",
   "execution_count": 13,
   "id": "6b614f08",
   "metadata": {},
   "outputs": [
    {
     "data": {
      "text/html": [
       "<table style=\"border:1px solid black;\">\n",
       "<tr style='border:1px solid black;color:black;background-color:#808080'>\n",
       "      <th colspan='2'><center>B</center></th></tr>\n",
       "<tr><th style='border:1px solid black;border-bottom-style: double;color:black;background-color:#BBBBBB'>\n",
       "      <center>0</center></th><th style='border:1px solid black;border-bottom-style: double;color:black;background-color:#BBBBBB'>\n",
       "      <center>1</center></th></tr>\n",
       "<tr><td style='color:black;background-color:#aecf64;text-align:right;'>0.6300</td><td style='color:black;background-color:#cfae64;text-align:right;'>0.3700</td></tr>\n",
       "</table>"
      ],
      "text/plain": [
       "(pyAgrum.Potential<double>@0x191a27ae3c0) \n",
       "  B                |\n",
       "0        |1        |\n",
       "---------|---------|\n",
       " 0.6300  | 0.3700  |"
      ]
     },
     "execution_count": 13,
     "metadata": {},
     "output_type": "execute_result"
    }
   ],
   "source": [
    "infer_exacte.posterior(\"B\")"
   ]
  },
  {
   "cell_type": "markdown",
   "id": "571a8d00",
   "metadata": {},
   "source": [
    "Etape 4: Deuxième approche -- arbre de jonction"
   ]
  },
  {
   "cell_type": "code",
   "execution_count": 14,
   "id": "4f48ba5c",
   "metadata": {},
   "outputs": [],
   "source": [
    "infer_jt = Inference_JT(dilemme)"
   ]
  },
  {
   "cell_type": "code",
   "execution_count": 15,
   "id": "0f721b8a",
   "metadata": {},
   "outputs": [
    {
     "data": {
      "text/html": [
       "<table style=\"border-style: hidden; border-collapse: collapse;\" width=\"100%\"><tr><td style=\"border-top:hidden;border-bottom:hidden;vertical-align:middle;\"><div align=\"center\" style=\"vertical-align:middle;\"><svg xmlns=\"http://www.w3.org/2000/svg\" xmlns:xlink=\"http://www.w3.org/1999/xlink\" width=\"62pt\" height=\"44pt\" viewBox=\"0.00 0.00 62.00 44.00\">\n",
       "<g id=\"graph0\" class=\"graph\" transform=\"scale(1 1) rotate(0) translate(4 40)\">\n",
       "<title>G</title>\n",
       "<!-- (0) 0&#45;1 -->\n",
       "<g id=\"node1\" class=\"node\">\n",
       "<title>(0) 0-1</title>\n",
       "<g id=\"a_node1\"><a xlink:title=\"size : 2\n",
       "0\n",
       "1\">\n",
       "<ellipse fill=\"burlywood\" stroke=\"#4a4a4a\" cx=\"27\" cy=\"-18\" rx=\"27\" ry=\"18\"/>\n",
       "<text text-anchor=\"middle\" x=\"27\" y=\"-14.3\" font-family=\"Times New Roman,serif\" font-size=\"14.00\">A B</text>\n",
       "</a>\n",
       "</g>\n",
       "</g>\n",
       "</g>\n",
       "</svg></div></td><td style=\"border-top:hidden;border-bottom:hidden;vertical-align:middle;\"><div align=\"center\" style=\"vertical-align:middle;\"><svg xmlns=\"http://www.w3.org/2000/svg\" xmlns:xlink=\"http://www.w3.org/1999/xlink\" width=\"62pt\" height=\"44pt\" viewBox=\"0.00 0.00 62.00 44.00\">\n",
       "<g id=\"graph0\" class=\"graph\" transform=\"scale(1 1) rotate(0) translate(4 40)\">\n",
       "<title>G</title>\n",
       "<!-- (0) 0&#45;1 -->\n",
       "<g id=\"node1\" class=\"node\">\n",
       "<title>(0) 0-1</title>\n",
       "<g id=\"a_node1\"><a xlink:title=\"size : 2\n",
       "0\n",
       "1\">\n",
       "<ellipse fill=\"burlywood\" stroke=\"#4a4a4a\" cx=\"27\" cy=\"-18\" rx=\"27\" ry=\"18\"/>\n",
       "<text text-anchor=\"middle\" x=\"27\" y=\"-14.3\" font-family=\"Times New Roman,serif\" font-size=\"14.00\">0-1</text>\n",
       "</a>\n",
       "</g>\n",
       "</g>\n",
       "</g>\n",
       "</svg></div></td></tr></table>"
      ],
      "text/plain": [
       "<IPython.core.display.HTML object>"
      ]
     },
     "metadata": {},
     "output_type": "display_data"
    }
   ],
   "source": [
    "infer_jt.showJt()"
   ]
  },
  {
   "cell_type": "code",
   "execution_count": 16,
   "id": "cf997c47",
   "metadata": {},
   "outputs": [],
   "source": [
    "infer_jt.makeInference()"
   ]
  },
  {
   "cell_type": "code",
   "execution_count": 17,
   "id": "27e2d1a6",
   "metadata": {},
   "outputs": [
    {
     "data": {
      "text/html": [
       "<table style=\"border:1px solid black;\">\n",
       "<tr style='border:1px solid black;color:black;background-color:#808080'>\n",
       "      <th colspan='2'><center>B</center></th></tr>\n",
       "<tr><th style='border:1px solid black;border-bottom-style: double;color:black;background-color:#BBBBBB'>\n",
       "      <center>0</center></th><th style='border:1px solid black;border-bottom-style: double;color:black;background-color:#BBBBBB'>\n",
       "      <center>1</center></th></tr>\n",
       "<tr><td style='color:black;background-color:#aecf64;text-align:right;'>0.6300</td><td style='color:black;background-color:#cfae64;text-align:right;'>0.3700</td></tr>\n",
       "</table>"
      ],
      "text/plain": [
       "(pyAgrum.Potential<double>@0x191a27ae7a0) \n",
       "  B                |\n",
       "0        |1        |\n",
       "---------|---------|\n",
       " 0.6300  | 0.3700  |"
      ]
     },
     "execution_count": 17,
     "metadata": {},
     "output_type": "execute_result"
    }
   ],
   "source": [
    "infer_jt.posterior(\"B\")"
   ]
  },
  {
   "cell_type": "code",
   "execution_count": null,
   "id": "c1d01368",
   "metadata": {},
   "outputs": [],
   "source": []
  },
  {
   "cell_type": "code",
   "execution_count": null,
   "id": "9a392247",
   "metadata": {},
   "outputs": [],
   "source": []
  }
 ],
 "metadata": {
  "kernelspec": {
   "display_name": "Python 3 (ipykernel)",
   "language": "python",
   "name": "python3"
  },
  "language_info": {
   "codemirror_mode": {
    "name": "ipython",
    "version": 3
   },
   "file_extension": ".py",
   "mimetype": "text/x-python",
   "name": "python",
   "nbconvert_exporter": "python",
   "pygments_lexer": "ipython3",
   "version": "3.9.7"
  }
 },
 "nbformat": 4,
 "nbformat_minor": 5
}
